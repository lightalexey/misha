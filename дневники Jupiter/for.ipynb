{
 "cells": [
  {
   "cell_type": "code",
   "execution_count": 2,
   "id": "a30a0696",
   "metadata": {},
   "outputs": [
    {
     "name": "stdout",
     "output_type": "stream",
     "text": [
      "Сумма равна 12\n"
     ]
    }
   ],
   "source": [
    "a = input('Введи а=')\n",
    "b = input('Введи b=')\n",
    "summa = a + b\n",
    "print('Сумма равна', summa)"
   ]
  },
  {
   "cell_type": "code",
   "execution_count": 2,
   "id": "c88b28ad",
   "metadata": {},
   "outputs": [
    {
     "name": "stdout",
     "output_type": "stream",
     "text": [
      "Введи а=3\n",
      "Введи b=5\n",
      "Сумма равна 8\n"
     ]
    }
   ],
   "source": [
    "a = int(input('Введи а=')) # a = int(a)\n",
    "b = int(input('Введи b='))\n",
    "summa = a + b\n",
    "print('Сумма равна', summa)"
   ]
  },
  {
   "cell_type": "code",
   "execution_count": 3,
   "id": "ba87bd97",
   "metadata": {},
   "outputs": [
    {
     "name": "stdout",
     "output_type": "stream",
     "text": [
      "Введи а=3\n",
      "Введи b=5\n",
      "Сумма равна 8\n"
     ]
    }
   ],
   "source": [
    "a = int(input('Введи а='))\n",
    "b = int(input('Введи b='))\n",
    "print('Сумма равна', a + b)"
   ]
  },
  {
   "cell_type": "code",
   "execution_count": 4,
   "id": "375bb5b7",
   "metadata": {},
   "outputs": [
    {
     "name": "stdout",
     "output_type": "stream",
     "text": [
      "Введи а=3\n",
      "Введи b=5\n",
      "Сумма равна 8\n"
     ]
    }
   ],
   "source": [
    "print('Сумма равна', int(input('Введи а=')) + int(input('Введи b=')))"
   ]
  },
  {
   "cell_type": "code",
   "execution_count": null,
   "id": "02550057",
   "metadata": {},
   "outputs": [],
   "source": []
  }
 ],
 "metadata": {
  "kernelspec": {
   "display_name": "Python 3",
   "language": "python",
   "name": "python3"
  },
  "language_info": {
   "codemirror_mode": {
    "name": "ipython",
    "version": 3
   },
   "file_extension": ".py",
   "mimetype": "text/x-python",
   "name": "python",
   "nbconvert_exporter": "python",
   "pygments_lexer": "ipython3",
   "version": "3.10.2"
  }
 },
 "nbformat": 4,
 "nbformat_minor": 5
}
