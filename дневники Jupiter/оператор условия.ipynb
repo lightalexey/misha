{
 "cells": [
  {
   "cell_type": "code",
   "execution_count": 3,
   "id": "eaeea7c1",
   "metadata": {},
   "outputs": [
    {
     "name": "stdout",
     "output_type": "stream",
     "text": [
      "a<b\n"
     ]
    }
   ],
   "source": [
    "a = int(input('введи а='))\n",
    "b = int(input('введи b='))\n",
    "if a > b:\n",
    "    print('а больше b')\n",
    "else:\n",
    "    print('a<b')\n"
   ]
  },
  {
   "cell_type": "code",
   "execution_count": null,
   "id": "89944b79",
   "metadata": {},
   "outputs": [],
   "source": []
  },
  {
   "cell_type": "code",
   "execution_count": null,
   "id": "bf3a98ae",
   "metadata": {},
   "outputs": [],
   "source": []
  }
 ],
 "metadata": {
  "kernelspec": {
   "display_name": "Python 3",
   "language": "python",
   "name": "python3"
  },
  "language_info": {
   "codemirror_mode": {
    "name": "ipython",
    "version": 3
   },
   "file_extension": ".py",
   "mimetype": "text/x-python",
   "name": "python",
   "nbconvert_exporter": "python",
   "pygments_lexer": "ipython3",
   "version": "3.10.2"
  }
 },
 "nbformat": 4,
 "nbformat_minor": 5
}
